{
 "cells": [
  {
   "cell_type": "code",
   "execution_count": 2,
   "metadata": {},
   "outputs": [],
   "source": [
    "import rpy2.robjects as robjects\n",
    "from rpy2.robjects.packages import importr"
   ]
  },
  {
   "cell_type": "code",
   "execution_count": 4,
   "metadata": {},
   "outputs": [],
   "source": [
    "#import R packages\n",
    "e1071 = importr('e1071')\n",
    "fclust = importr('fclust')\n",
    "ppclust = importr('ppclust')"
   ]
  },
  {
   "cell_type": "markdown",
   "metadata": {
    "jupyter": {
     "source_hidden": true
    }
   },
   "source": [
    "# R package contents\n",
    "\n",
    "[e1071](https://cran.r-project.org/web/packages/e1071/e1071.pdf) : contains functions cmeans (dist is euclidean, this is what has been used up until now)\n",
    "\n",
    "[fclust](https://cran.r-project.org/web/packages/fclust/fclust.pdf) : contains functions fkm (dist is euclidean, equivalent to cmeans from e1071 package, for all I can tell), fkm.gkb (dist is mahalanobis), NEFRC (accepts distance and dissimilarity matrices as input). Also includes a variety of clustering indices:\n",
    "\n",
    "| call   |      Description      |  Optimization |\n",
    "|----------|:-------------:|------:|\n",
    "| XB |    Xie-Beni   |   min |\n",
    "| PE |    Partition entropy   |   min |\n",
    "| PC |    Partition coefficient   |   max |\n",
    "| MPC |    Modified partition coefficient   |   max |\n",
    "| SIL |    Silhouette index   |   max |\n",
    "| SIL.F |    Fuzzy silhouette index   |   max |\n",
    "\n",
    "[ppclust](https://cran.r-project.org/web/packages/ppclust/ppclust.pdf) : can cluster on a wide variety of distance metrics, but is very slow based on testing in R thus far, might only be useful for creating various distance matrices:\n",
    "\n",
    "| dmetric   |      Description      |  Norm |\n",
    "|----------|:-------------:|------:|\n",
    "| addsymchi |    Additive Symmetric   |   sl2 |\n",
    "| canberra |    Canberra   |   l1 |\n",
    "| chebyshev |    Chebyshev   |   li |\n",
    "| clark |    Clark   |   sl2 |\n",
    "| correlation |    Correlation   |   cor |\n",
    "| cosine |    Cosine   |   cos |\n",
    "| divergence |    Divergence   |   sl2 |\n",
    "| euclidean |    Euclidean   |   l2 |\n",
    "| lorentzian |    Lorentzian   |   l1 |\n",
    "| manhattan |    Manhattan   |   l1 |\n",
    "| minkowski |    Minkowski   |   lp |\n",
    "| neymanchi |    Neyman Chi   |   sl2 |\n",
    "| pearsonchi |    Pearson Chi   |   sl2 |\n",
    "| prosymchi |    Probabilistic Symmetric   |   sl2 |\n",
    "| sorensen |    Sorensen   |   l1 |\n",
    "| sqchi |    Squared Chi   |   sl2 |\n",
    "| sqchord |    Squared Chord   |   sc |\n",
    "| sqeuclidean |    Squared Euclidean   |   sl2 |"
   ]
  },
  {
   "cell_type": "code",
   "execution_count": 16,
   "metadata": {},
   "outputs": [
    {
     "data": {
      "text/plain": [
       "'U, H, F, clus, medoid, value, criterion, iter, k, m, ent, b, vp, delta, stand, Xca, X, D, call = NEFRD(\\n        (D, k, m, RS, startU, index, alpha, conv, maxit, seed)'"
      ]
     },
     "execution_count": 16,
     "metadata": {},
     "output_type": "execute_result"
    }
   ],
   "source": [
    "#load functions\n",
    "cmeansCRAN = e1071.cmeans\n",
    "'''centers, size, cluster, iter, membership, withinerror, call = cmeans(\n",
    "        x, centers, iter.max = 100, verbose = FALSE,\n",
    "        dist = \"euclidean\", method = \"cmeans\", m = 2,\n",
    "        rate.par = NULL, weights = 1, control = list())'''\n",
    "fclustFKM = fclust.FKM\n",
    "'''U, H, F, clus, medoid, value, iter, k, m, ent, b, vp, delta, gam, mcn, Xca, X, D, call = FKM(\n",
    "        X, k, m, RS, stand, startU, index, alpha, conv, maxit, seed)'''\n",
    "#fclustFKMGKB = fclust.FKM.gkb  # issue since R does not recognize that \".\" like in python\n",
    "'''U, H, F, clus, medoid, value, criterion, iter, k, m, ent, b, vp, delta, gam, mcn, stand, Xca, X, D, call = FKM.gkb(\n",
    "        X, k, m, vp, gam, mcn, RS, stand, startU, index, alpha, conv, maxit, seed)'''\n",
    "fclustNEFRC = fclust.NEFRC\n",
    "'''U, H, F, clus, medoid, value, criterion, iter, k, m, ent, b, vp, delta, stand, Xca, X, D, call = NEFRD(\n",
    "        (D, k, m, RS, startU, index, alpha, conv, maxit, seed)'''\n",
    "# hold the thought adding the distance matrix functions from ppclust"
   ]
  },
  {
   "cell_type": "markdown",
   "metadata": {},
   "source": [
    "## generate test cluster data"
   ]
  },
  {
   "cell_type": "code",
   "execution_count": 14,
   "metadata": {},
   "outputs": [
    {
     "data": {
      "text/plain": [
       "'FKM.gkb'"
      ]
     },
     "execution_count": 14,
     "metadata": {},
     "output_type": "execute_result"
    }
   ],
   "source": [
    "\"FKM\"+\".\"+\"gkb\""
   ]
  },
  {
   "cell_type": "code",
   "execution_count": null,
   "metadata": {},
   "outputs": [],
   "source": []
  }
 ],
 "metadata": {
  "kernelspec": {
   "display_name": "Python 3",
   "language": "python",
   "name": "python3"
  },
  "language_info": {
   "codemirror_mode": {
    "name": "ipython",
    "version": 3
   },
   "file_extension": ".py",
   "mimetype": "text/x-python",
   "name": "python",
   "nbconvert_exporter": "python",
   "pygments_lexer": "ipython3",
   "version": "3.9.0"
  }
 },
 "nbformat": 4,
 "nbformat_minor": 4
}
